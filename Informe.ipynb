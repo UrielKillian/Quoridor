{
 "cells": [
  {
   "cell_type": "markdown",
   "source": [
    "# Trabajo Final"
   ],
   "metadata": {
    "collapsed": false,
    "pycharm": {
     "name": "#%% md\n"
    }
   }
  },
  {
   "cell_type": "markdown",
   "source": [
    "## Integrantes\n",
    "- Edinson Cabrera Ñique\n",
    "- Gonzalo\n",
    "- Oscar"
   ],
   "metadata": {
    "collapsed": false,
    "pycharm": {
     "name": "#%% md\n"
    }
   }
  },
  {
   "cell_type": "markdown",
   "source": [
    "## Introducción\n",
    "\n",
    "Mucho se ha dicho respecto al alcance de los juegos virtuales en pleno siglo XXI. Desde William\n",
    "Higinbotham con su impresionante aporte a la industria de los juegos hasta Ralph Baer con sus\n",
    "experiencias y premios. Es por ello que nuestro entendimiento en este campo ha variado tanto, pues\n",
    "con el pasar del tiempo ha ido mejorando cada aspecto, desde la calidad de las imagenes hasta las\n",
    "estrategias que puede utilizar un humano para ganarle a una maquina en sentidos tan impredescibles\n",
    "que a nadie sorprendera. Es así que, el presente trabajo de investigación está orientado al estudio de\n",
    "la lógica del juego llamado Quoridor desde un enfoque descriptivo y explicativo donde ejemplicamos\n",
    "de manera objetiva y puntual en que dichas especulaciones operan, sobre todo a la hora de validar\n",
    "conocimientos, actitudes y estratégias y así relacionarlas con nuestra vida diaria.\n",
    "El Quoridor es un juego abstracto de estrategia en el que pueden participar de dos a más jugadores.\n",
    "Se utiliza un tablero similar el ajedrez, en la que cada jugador tendrá que llevar su ficha respectiva\n",
    "al otro extremo del tablero. El oponente podrá hacer uso de bloques de madera para obstruir el\n",
    "paso, de esta manera obliga a los demás jugadores a desviarse y retrasar así su llegada. La única\n",
    "restricción es no poder encerrar a la ficha riva con el uso de estos bloques. Gana el jugador que lleve\n",
    "su ficha al otro extremo del tablero.\n",
    "Al terminar la investigación, se realizará la codificación y exportación en un ejecutable del juego\n",
    "\"Quoridor\" utilizando el lenguaje de programación \"Python\". Además de utilizar las técnicas o\n",
    "métodos aprendiendos en el curso de Complejidad Algoritmica\"\n",
    "\n",
    "## Estado del arte\n",
    "\n",
    "En el presente apartado se hace una revisión exhaustiva de investigaciones que plantean algoritmos capaces de poder jugar el juego abstracto de estrategia Quoridor.\n",
    "Un algoritmo recursivo que es utilizado a menudo para encontrar un movimiento óptimo para diversos juegos de mesa es el Minimax. Según Iker Eizagirre, en su investigación Quoridor, a board game AI (2018), afirma que dicho algoritmo es eficiente hasta cierto punto, debido a que conforme el juego transcurre surgen nuevas posibilidades de movimiento, lo cual hace que el árbol de posibilidades de movimiento sea demasiado grande para realizar una búsqueda Minimax hasta las hojas finales. Es en este punto donde surge una posible solución a este problema, lo cual sería limitando la profundidad de la búsqueda Minimax mediante la Poda alfa-beta, lo cual es una técnica de búsqueda que reduce el número de nodos evaluados en un árbol de juego, creando un rango potencial, el cual se limita por un valor mínimo donde no se permite movimientos que produzcan un potencial menor que el mínimo.\n",
    "Según P.J.C. Mertens en A Quoridor-playing Agent (2006), primero para poder desarrollar un algoritmo que pueda desempeñar un nivel razonable en Quoridor se debe plantear primero la complejidad del juego, para que de esta manera se pueda seleccionar el algoritmo óptimo para su futura implementación. Como bien es sabido el algoritmo Minimax, es comúnmente usado. Mertens plantea al igual que Eizagirre que dicho algoritmo es útil hasta cierto punto ya que el árbol de posibilidades tiende a crecer de manera exponencial. Por lo que, una manera en la que Mertens soluciono esto fue limitando la profundidad de la búsqueda Minimax. Además de utilizar funciones de evaluación para determinar el valor de una posición, el valor devuelto por la función vendría a ser la suma de los valores ponderados obtenidos por varias funciones de evaluación. Merten concluye mencionando que las extensiones del algoritmo Minimax, no conducen a un algoritmo capaz de jugar Quoridor de manera competente. Ya que explica y prueba que el desempeño alcanzado es un nivel amateur. Una de las razones sería la poca profundidad que utilizo en la búsqueda Minimax. Por lo que un Deep Search podría haber dado lugar a mejores movimientos y por ende a mejores resultados.\n",
    "En conclusión, para desarrollar un algoritmo que juegue Quoridor de manera competente, se necesita que la complejidad del algoritmo sea razonable ya que de esto dependerá la velocidad de respuesta del mismo. Además, cuanto más profundo y rápido pueda buscar nuestro algoritmo, el resultado será más preciso y desarrollado en una cantidad razonable de tiempo.\n",
    "\n",
    "## Metodología\n",
    "\n",
    "Para el desarrollo del Proyecto de Complejidad algorítmica implementaremos una metodología que usaremos durante todo el proceso. Esta mostrará el paso a paso de las acciones que usaremos para poder lograr el objetivo del proyecto. A continuación, se explicarán las 3 Fases iniciales que aplicaremos en el proyecto.\n",
    "\n",
    "## Analisis\n",
    "\n",
    "Para lograr el objetivo del proyecto tenemos que analizar las mecánicas del juego de mesa Quoridor. Esto con el fin de poder conocer más a fondo las características que tengamos que implementar para cada jugador. Nuestra meta para esta primera instancia es implementar los movimientos de los bots, o sea los jugadores, dentro del mapa.  Para esto estudiamos las condiciones que tiene los jugadores dentro del juego para poder avanzar con éxito y así poder ganar el juego.\n",
    "\n",
    "## Diseño\n",
    "\n",
    "El juego consiste en un mapa de cuadros de dimensiones de 9x9 con 20 paredes y cuatro jugadores. Esto nos indica los elementos que deberemos tener en consideración al momento de implementar las opciones que tendrá cada Bot al momento de realizar un movimiento. El diseño que tendrá el juego será implementado mediante una matriz. Esta última indicará los obstáculos que se presentarán dentro del juego para cada Bot. Esto nos servirá para poder realizar los movimientos inteligentes de cada player. Si es que un bot llega a la fila opuesta a su fila de inicio ganará el juego , es decir que si se encuentra 8 filas más que su posición inicial se considera automáticamente que llego a la fila opuesta.\n",
    "\n",
    "## Implementación\n",
    "\n",
    "Para la creación y edición del documento del proyecto se estará usando el sistema de compocisión de texto LaTex y siendo editado en la herramienta OverLeaf. Como desarrolladores implementaremos nuestros algoritmos y el desarrollo del juego en el lenguaje de Python. Luego se definirá un mismo editor de código para que el trabajo sea lo más elocuente. Tal como mencionado anterior mente el Mara será implementado en una matriz con el fin de facilitar el algoritmo de los Bot. Para el desarrollo de este último se presentarán 3 diferentes tipos de algoritmos para poder realizar los movimientos de cada jugador. Para una facilidad de trabajo en equipo estaremos utilizando la plataforma de GitHub. En esta se creará un repositorio nos ayudará a poder tener distintas versiones del proyecto para poder corregir los errores que podríamos tener.\n",
    "\n",
    "## Algoritmos Utilizados\n",
    "\n",
    "### A Star\n",
    "\n",
    "El algoritmo de A* es considerado un algoritmo de búsqueda de coste uniforme, es de tipo o(n2), además tiene como objetivo encontrar el primer camino más práctico en un grafo, durante el juego. Esto permite ayudar al jugador a determinar dónde moverse o a la IA a reconocer qué movimiento debe ir. Cabe recalcar que si existen dos soluciones exactamente iguales en simplicidad el algoritmo optará por la primera. Este algoritmo utiliza los dos métodos de dos conocidas búsquedas, la de por anchura y por profundidad.\n",
    "\n",
    "### BFS\n",
    "\n",
    "El algoritmo de BFS, nos permitirá evaluar, en base a la situación del tablero de Quoridor, cual es el camino más corto hacia la meta como jugador. En caso de ser utilizado para una inteligencia artificial, se implementará el BFS para determinar el camino más corto posible cuando este ya decidió entre moverse o colocar una pared, de esa manera, el análisis será exacto al momento de realizar jugadas. Su complejidad es O(n^2)\n",
    "\n",
    "### Djkstra\n",
    "\n",
    "El algoritmo Dijkstra un algoritmo eficiente para la determinación del camino más corto dado un vértice origen al resto de vértices en un grafo con pesos en cada arista. Éste se encarga de formar un camino a partir de otro ya existente. Este algoritmo trabaja por etapas bajo el principio de la optimalidad,  tomando en cada etapa la mejor solución sin considerar consecuencias futuras; donde el óptimo encontrado puede modificarse posteriormente si surge una solución mejor. El algoritmo devuelve en realidad el peso mínimo, no el camino mínimo propiamente dicho. Su complejidad es O(n)\n",
    "\n",
    "## Espacios de busqueda\n",
    "\n",
    "La programación mediante matrices nos ayuda a encontrar una solución mediante el sistema de colisiones. Estos se basarán en caso de la programación realizada y utilizada para movimientos simples. Sin embargo, se volvería un código inmutable, de manera de que si se termina el proyecto no podrá mejorar con futuras actualizaciones debido a que se ha programado para realizar ciertas acciones sin fluidez.\n",
    "\n",
    "La programación realizada mediante grafos y algoritmos, nos permitirá la creación y desarrollo del juego en base a búsquedas. Lo que nos abre a nuevas posibilidades, desde la búsqueda de nuevas jugadas como jugador hasta la implementación de nuevas jugadas y movimientos por parte de la IA que puede ser implementada a futuro. Gracias a ello, el juego permitirá nuevos movimientos y acciones.\n",
    "\n",
    "## Experimentos\n",
    "\n",
    "Se han analizado los algoritmos de A*,  “BFS” y “Dijkstra” se ha logrado verificar la ruta más corta que se puede crear entre dos puntos en los dos extremos del mapa.\n",
    "\n",
    "### BFS\n",
    "\n",
    "El algoritmo de BFS o “Best First Search”, realiza una búsqueda por anchura por todos los grafos. Desde el grafo inicial(jugador) empieza su recorrido, expandiéndose alrededor del jugador. Si encuentra un muro, hace como si no lo pudiera pasar, de esta manera recorre todo el grafo. En el momento que encuentra el objetivo, vuelve por los grafos que recorrió y determina la ruta más corta como se puede apreciar en la figura\n",
    "\n",
    "### A Star\n",
    "\n",
    "Es una versión informada del algoritmo BFS, este se concentra en grafos muy pesados, posee como objetivo mediante su ejecución partir hacia adelante donde se encuentra el objetivo o destino. si por alguna razón o motivo se encuentra con una colisión, el algoritmo expande un poco el foco de búsqueda y continuará su recorrido. Continuará de esta manera hasta que se logre hacer contacto con el destino. De ahí se trazará de regreso el camino más corto que debe recorrer.\n",
    "Aquí se muestra un ejemplo en la figura\n",
    "\n",
    "### Djkstra\n",
    "\n",
    "El algoritmo dijkstra se encarga de calcular el camino mínimo entre dos puntos, que forman parte de un grafo. Ese camino está formando por un número de vértices unidos entre sí por aristas de diferentes costes. Desde el punto de partida, el algoritmo se expande alrededor de la matriz.\n",
    "A continuación, en la figura, se muestra un ejemplo del funcionamiento del algoritmo Djkstra.\n",
    "\n",
    "\n",
    "\n",
    "## Conclusiones\n",
    "\n",
    "El Proyecto nos presentó nuevos horizontes, el uso de algoritmos y el manejo de grafos como en juegos e incluso en otros proyectos no ayudarán a volverlos más moldeables y menos estáticos. Gracias al uso de los sistemas de búsqueda se pueden realizar proyectos tales como la configuración de la IA siguiendo un algoritmo, predicción de movimientos,etc. En conclusión, el algoritmo designado por nosotros es el A*, debido a ser más intuitivo, consume menos memoria y tiempo en el momento de ejecución con los otros algoritmos.\n",
    "\n",
    "## Bibliografía\n",
    "\n",
    "Bezakova, I., Heliotis, J. E. Strout, S. P. (2013, Marzo). Board game strategies in introductory computer science. In Proceeding of the 44th ACM technical symposium on Computer science education (pp. 17-22). Recuperado de: https://cs.bemidjistate.edu/fneville/CS1BoardGames.pdf\n",
    "\n",
    "Glendenning. L(2005, Mayo). Mastering Quoridor. Recuperado de:\n",
    "http://citeseerx.ist.psu.edu/viewdoc/download?doi=10.1.1.100.5204&rep=rep1&type=pdfMertens.\n",
    "\n",
    "P(2006, \tJunio) \tA \tQuoridor-playing \tAgent. \tRecuperado \tde:\n",
    "http://citeseerx.ist.psu.edu/viewdoc/download?doi=10.1.1.134.5605&rep=rep1&type=pdf\n",
    "\n",
    "Respall, V. M. (2018, Junio). Quoridor Agent using Monte Carlo Tree Search (pp.\n",
    "25-29).Recuperado de:\n",
    "https://upcommons.upc.edu/bitstream/handle/2117/127676/131875.pdf?sequence=1&isAllowed=y\n",
    "\n",
    "TechWithTim. (2020, 16 julio). A* Pathfinding Visualization Tutorial - Python A* Path\n",
    "Finding \tTutorial \t[Vídeo]. \tYouTube. \tRecuperado \tde:\n",
    "https://www.youtube.com/watch?v=JtiK0DOeI4A&t=2382s&ab_channel=TechWithTim"
   ],
   "metadata": {
    "collapsed": false,
    "pycharm": {
     "name": "#%% md\n"
    }
   }
  }
 ],
 "metadata": {
  "kernelspec": {
   "display_name": "Python 3",
   "language": "python",
   "name": "python3"
  },
  "language_info": {
   "codemirror_mode": {
    "name": "ipython",
    "version": 2
   },
   "file_extension": ".py",
   "mimetype": "text/x-python",
   "name": "python",
   "nbconvert_exporter": "python",
   "pygments_lexer": "ipython2",
   "version": "2.7.6"
  }
 },
 "nbformat": 4,
 "nbformat_minor": 0
}